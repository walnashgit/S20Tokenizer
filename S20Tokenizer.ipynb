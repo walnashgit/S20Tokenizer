{
  "nbformat": 4,
  "nbformat_minor": 0,
  "metadata": {
    "colab": {
      "provenance": [],
      "authorship_tag": "ABX9TyOZNsmK1fAL25VUEZ94+v1e",
      "include_colab_link": true
    },
    "kernelspec": {
      "name": "python3",
      "display_name": "Python 3"
    },
    "language_info": {
      "name": "python"
    }
  },
  "cells": [
    {
      "cell_type": "markdown",
      "metadata": {
        "id": "view-in-github",
        "colab_type": "text"
      },
      "source": [
        "<a href=\"https://colab.research.google.com/github/walnashgit/S20Tokenizer/blob/main/S20Tokenizer.ipynb\" target=\"_parent\"><img src=\"https://colab.research.google.com/assets/colab-badge.svg\" alt=\"Open In Colab\"/></a>"
      ]
    },
    {
      "cell_type": "code",
      "execution_count": 2,
      "metadata": {
        "colab": {
          "base_uri": "https://localhost:8080/"
        },
        "id": "wXmG-thOa0kK",
        "outputId": "e562270b-8728-46fe-e7cf-3121fc728a02"
      },
      "outputs": [
        {
          "output_type": "stream",
          "name": "stdout",
          "text": [
            "Cloning into 'S20Tokenizer'...\n",
            "remote: Enumerating objects: 9, done.\u001b[K\n",
            "remote: Counting objects: 100% (9/9), done.\u001b[K\n",
            "remote: Compressing objects: 100% (7/7), done.\u001b[K\n",
            "remote: Total 9 (delta 1), reused 0 (delta 0), pack-reused 0\u001b[K\n",
            "Receiving objects: 100% (9/9), 41.97 KiB | 499.00 KiB/s, done.\n",
            "Resolving deltas: 100% (1/1), done.\n"
          ]
        }
      ],
      "source": [
        "!git clone https://github.com/walnashgit/S20Tokenizer.git"
      ]
    },
    {
      "cell_type": "code",
      "source": [
        "%cd /content/S20Tokenizer"
      ],
      "metadata": {
        "colab": {
          "base_uri": "https://localhost:8080/"
        },
        "id": "4w-UZ65dcgiB",
        "outputId": "f2efbb2d-d4a9-40a9-d39f-e92e85f8341f"
      },
      "execution_count": 3,
      "outputs": [
        {
          "output_type": "stream",
          "name": "stdout",
          "text": [
            "/content/S20Tokenizer\n"
          ]
        }
      ]
    },
    {
      "cell_type": "code",
      "source": [
        "!pip install regex"
      ],
      "metadata": {
        "colab": {
          "base_uri": "https://localhost:8080/"
        },
        "id": "rMSjiU9_cy9-",
        "outputId": "0de375da-9123-4983-ec5e-a210f8e530e4"
      },
      "execution_count": 4,
      "outputs": [
        {
          "output_type": "stream",
          "name": "stdout",
          "text": [
            "Requirement already satisfied: regex in /usr/local/lib/python3.10/dist-packages (2024.5.15)\n"
          ]
        }
      ]
    },
    {
      "cell_type": "code",
      "source": [
        "from hinditokenizer import DevanagariTokenizer\n",
        "from training_data import text"
      ],
      "metadata": {
        "id": "azZ3ZqTNc8MQ"
      },
      "execution_count": 5,
      "outputs": []
    },
    {
      "cell_type": "code",
      "source": [
        "tokenizer = DevanagariTokenizer()\n",
        "tokenizer.train(text, 5100) # vocabsize = 5100\n",
        "tokenizer.save(\"hindi\")"
      ],
      "metadata": {
        "colab": {
          "base_uri": "https://localhost:8080/"
        },
        "id": "jOjFJYv4dB63",
        "outputId": "34a90890-ba33-4181-f17d-660263ac3960"
      },
      "execution_count": 6,
      "outputs": [
        {
          "output_type": "stream",
          "name": "stdout",
          "text": [
            "input_len: 178488, output_len: 15716 compression ratio: 11.36X\n"
          ]
        }
      ]
    },
    {
      "cell_type": "code",
      "source": [
        "# tokenizer.load(\"hindi.model\")\n",
        "input = \"वर्ष 2022 तक कृषकों की आमदानी को दोगुनी करने के लक्ष्य की प्राप्ति हेतु छोटे व सीमांत किसानों को अन्य वैकल्पिक रोज़गार भी उपलब्ध कराने की आवश्यकता है; जैसे- पशुपालन, मुर्गी पालन, मधुमक्खी पालन आदि। इसके अतिरिक्त उन्हें कुसुम जैसी योजनाओं से जोड़कर बिजली के खर्च को कम करने हेतु प्रोत्साहित किया जा सकता है।\"\n",
        "en = tokenizer.encode(input)\n",
        "print(en)\n",
        "output = tokenizer.decode(en)\n",
        "print(output)\n",
        "print(input == output)\n"
      ],
      "metadata": {
        "colab": {
          "base_uri": "https://localhost:8080/"
        },
        "id": "dH_Q-FMldQVG",
        "outputId": "d502a1f9-da07-4dbf-e25b-d5851a72011c"
      },
      "execution_count": 7,
      "outputs": [
        {
          "output_type": "stream",
          "name": "stdout",
          "text": [
            "[297, 1123, 3561, 469, 718, 299, 3563, 322, 3566, 443, 286, 2697, 299, 2069, 1014, 2699, 290, 3567, 1383, 322, 771, 3570, 3572, 359, 1187, 2700, 299, 976, 281, 59, 593, 45, 2106, 44, 3574, 2107, 44, 3578, 2107, 813, 287, 518, 925, 894, 3580, 1536, 2702, 329, 2703, 2705, 286, 2706, 322, 540, 443, 1014, 2707, 425, 580, 690, 281, 287]\n",
            "वर्ष 2022 तक कृषकों की आमदानी को दोगुनी करने के लक्ष्य की प्राप्ति हेतु छोटे व सीमांत किसानों को अन्य वैकल्पिक रोज़गार भी उपलब्ध कराने की आवश्यकता है; जैसे- पशुपालन, मुर्गी पालन, मधुमक्खी पालन आदि। इसके अतिरिक्त उन्हें कुसुम जैसी योजनाओं से जोड़कर बिजली के खर्च को कम करने हेतु प्रोत्साहित किया जा सकता है।\n",
            "True\n"
          ]
        }
      ]
    }
  ]
}